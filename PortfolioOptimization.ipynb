{
  "nbformat": 4,
  "nbformat_minor": 0,
  "metadata": {
    "colab": {
      "provenance": []
    },
    "kernelspec": {
      "name": "python3",
      "display_name": "Python 3"
    },
    "language_info": {
      "name": "python"
    }
  },
  "cells": [
    {
      "cell_type": "code",
      "execution_count": null,
      "metadata": {
        "id": "C3VRbRpf-3Un"
      },
      "outputs": [],
      "source": [
        "# Importing required libraries\n",
        "import numpy as np  # For mathematical operations and handling arrays\n",
        "from scipy.optimize import minimize  # For optimization"
      ]
    },
    {
      "cell_type": "code",
      "source": [
        "# Step 1: Define the inputs\n",
        "# Expected annual returns of 4 assets (in decimals, e.g., 10% = 0.1) These are the predictions about future performance.\n",
        "expected_returns = np.array([0.1, 0.2, 0.15, 0.12])\n",
        "\n",
        "# Covariance matrix representing the risk (variance and covariances between assets)\n",
        "cov_matrix = np.array([\n",
        "    [0.005, -0.010, 0.004, -0.002],\n",
        "    [-0.010, 0.040, -0.002, 0.004],\n",
        "    [0.004, -0.002, 0.023, 0.002],\n",
        "    [-0.002, 0.004, 0.002, 0.018]\n",
        "])\n",
        "\n",
        "# Target return (desired portfolio return. 12% = 0.12)\n",
        "target_return = 0.12\n",
        "\n",
        "# Number of assets\n",
        "num_assets = len(expected_returns)"
      ],
      "metadata": {
        "id": "QX8Byet_AS7f"
      },
      "execution_count": null,
      "outputs": []
    },
    {
      "cell_type": "code",
      "source": [
        "# Step 2: Define the objective function\n",
        "def portfolio_variance(weights):\n",
        "    \"\"\"\n",
        "    This function calculates the portfolio variance, which we aim to minimize.\n",
        "\n",
        "    Variance=w^T Σw, where w is the weights vector, and Σ is the covariance matrix. weights represents how much of your investment is allocated to each asset (e.g., 40% in Asset 1, 30% in Asset 2, etc.).\n",
        "\n",
        "    \"\"\"\n",
        "    return np.dot(weights.T, np.dot(cov_matrix, weights))"
      ],
      "metadata": {
        "id": "u66ZvMGfAXnn"
      },
      "execution_count": null,
      "outputs": []
    },
    {
      "cell_type": "code",
      "source": [
        "# Step 3: Constraints\n",
        "# 1. The weights of the portfolio must sum to 1\n",
        "def weight_constraint(weights):\n",
        "    \"\"\"\n",
        "    Constraint to ensure weights sum to 1. Means we aim to invest 100% of our money into the portfolio.\n",
        "    \"\"\"\n",
        "    return np.sum(weights) - 1\n",
        "\n",
        "# 2. The portfolio must achieve the target return\n",
        "def return_constraint(weights):\n",
        "    \"\"\"\n",
        "    Constraint to ensure the portfolio achieves the target return.\n",
        "    Portfolio Return=∑(weights×expected_returns)\n",
        "    \"\"\"\n",
        "    return np.dot(weights, expected_returns) - target_return"
      ],
      "metadata": {
        "id": "CG1hNdKxAhtG"
      },
      "execution_count": null,
      "outputs": []
    },
    {
      "cell_type": "code",
      "source": [
        "# Step 4: Initial guess and bounds\n",
        "# Initial guess for weights (equally distributed)\n",
        "initial_weights = np.ones(num_assets) / num_assets\n",
        "# We start off with investing 25% of our money in each assets because its neutral\n",
        "\n",
        "# Bounds for weights (between 0 and 1, i.e., no short selling or over allocation)\n",
        "bounds = [(0, 1) for _ in range(num_assets)]\n",
        "\n",
        "# Combining constraints into a dictionary format for the optimizer\n",
        "constraints = (\n",
        "    {'type': 'eq', 'fun': weight_constraint},  # Equality constraint: weights sum to 1\n",
        "    {'type': 'eq', 'fun': return_constraint}   # Equality constraint: achieve target return\n",
        ")\n",
        "\n",
        "#\n",
        "# Step 5: Run the optimizer\n",
        "result = minimize( # minimize comes from the scipy.optimize.\n",
        "    fun=portfolio_variance,  # Objective function\n",
        "    x0=initial_weights,     # Initial guess for weights\n",
        "    bounds=bounds,          # Bounds for each weight\n",
        "    constraints=constraints # Constraints for the problem\n",
        ")\n",
        "# Returns the optimal weights for the portfolio and the minimum variance"
      ],
      "metadata": {
        "id": "p69UP0p-Aa-1"
      },
      "execution_count": null,
      "outputs": []
    },
    {
      "cell_type": "code",
      "source": [
        "# Step 6: Display results\n",
        "if result.success:\n",
        "    optimal_weights = result.x\n",
        "    print(\"Optimal Weights:\", optimal_weights)\n",
        "    print(\"Minimum Variance:\", portfolio_variance(optimal_weights))\n",
        "else:\n",
        "    print(\"Optimization failed:\", result.message)"
      ],
      "metadata": {
        "colab": {
          "base_uri": "https://localhost:8080/"
        },
        "id": "GfigrsMOAdHc",
        "outputId": "1660f2bb-0834-4cb9-fc42-722247cc1b50"
      },
      "execution_count": null,
      "outputs": [
        {
          "output_type": "stream",
          "name": "stdout",
          "text": [
            "Optimal Weights: [0.70943396 0.17735849 0.         0.11320755]\n",
            "Minimum Variance: 0.001328301886737278\n"
          ]
        }
      ]
    },
    {
      "cell_type": "markdown",
      "source": [
        "\n",
        "What do these numbers mean?\n",
        "**If the output shows:**\n",
        "\n",
        "**Optimal Weights:** [0.25, 0.35, 0.15, 0.25]\n",
        "\n",
        "Invest 25% in Asset 1, 35% in Asset 2, 15% in Asset 3, and 25% in Asset 4.\n",
        "\n",
        "**Minimum Variance:** 0.012\n",
        "The total portfolio risk (variance) is minimized to 0.012 while achieving a 12% return.\n"
      ],
      "metadata": {
        "id": "wCPlJz7WI7WX"
      }
    },
    {
      "cell_type": "code",
      "source": [
        "# Visualization\n",
        "import matplotlib.pyplot as plt\n",
        "\n",
        "# Plot the weights\n",
        "plt.bar(range(num_assets), optimal_weights)\n",
        "plt.xlabel('Asset')\n",
        "plt.ylabel('Weight')\n",
        "plt.title('Optimal Portfolio Weights')\n",
        "plt.show()"
      ],
      "metadata": {
        "colab": {
          "base_uri": "https://localhost:8080/",
          "height": 472
        },
        "collapsed": true,
        "id": "YrYDBWZnAf_4",
        "outputId": "84af827e-c36e-4c39-963f-778155cb1717"
      },
      "execution_count": null,
      "outputs": [
        {
          "output_type": "display_data",
          "data": {
            "text/plain": [
              "<Figure size 640x480 with 1 Axes>"
            ],
            "image/png": "[encoded data removed]"
          },
          "metadata": {}
        }
      ]
    },
    {
      "cell_type": "markdown",
      "source": [
        "Note: The optimization process excludes Asset 3 because its inclusion doesn't improve the portfolio's risk-return trade-off. This is common when certain assets have high risk or low returns relative to others.\n"
      ],
      "metadata": {
        "id": "6wqMAPM5JajI"
      }
    }
  ]
}